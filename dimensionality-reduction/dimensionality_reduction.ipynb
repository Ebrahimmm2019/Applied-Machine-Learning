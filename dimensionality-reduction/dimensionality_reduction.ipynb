{
  "nbformat": 4,
  "nbformat_minor": 5,
  "metadata": {
    "kernelspec": {
      "display_name": "Python 3 (ipykernel)",
      "language": "python",
      "name": "python3"
    },
    "language_info": {
      "codemirror_mode": {
        "name": "ipython",
        "version": 3
      },
      "file_extension": ".py",
      "mimetype": "text/x-python",
      "name": "python",
      "nbconvert_exporter": "python",
      "pygments_lexer": "ipython3",
      "version": "3.9.6"
    },
    "colab": {
      "name": "Untitled.ipynb",
      "provenance": [],
      "collapsed_sections": []
    }
  },
  "cells": [
    {
      "cell_type": "code",
      "metadata": {
        "colab": {
          "base_uri": "https://localhost:8080/"
        },
        "id": "UHEvtPBMp-d_",
        "outputId": "13e591c2-ede9-4f69-ab10-707180ba2b66"
      },
      "source": [
        "!pip install --upgrade scikit-learn"
      ],
      "id": "UHEvtPBMp-d_",
      "execution_count": 1,
      "outputs": [
        {
          "output_type": "stream",
          "name": "stdout",
          "text": [
            "Requirement already satisfied: scikit-learn in /usr/local/lib/python3.7/dist-packages (1.0.1)\n",
            "Requirement already satisfied: scipy>=1.1.0 in /usr/local/lib/python3.7/dist-packages (from scikit-learn) (1.4.1)\n",
            "Requirement already satisfied: threadpoolctl>=2.0.0 in /usr/local/lib/python3.7/dist-packages (from scikit-learn) (3.0.0)\n",
            "Requirement already satisfied: joblib>=0.11 in /usr/local/lib/python3.7/dist-packages (from scikit-learn) (1.0.1)\n",
            "Requirement already satisfied: numpy>=1.14.6 in /usr/local/lib/python3.7/dist-packages (from scikit-learn) (1.19.5)\n"
          ]
        }
      ]
    },
    {
      "cell_type": "code",
      "metadata": {
        "id": "rn0dHEDQqHvR"
      },
      "source": [
        "import sklearn"
      ],
      "id": "rn0dHEDQqHvR",
      "execution_count": 42,
      "outputs": []
    },
    {
      "cell_type": "code",
      "metadata": {
        "id": "EZnjGmn8p_cP"
      },
      "source": [
        "import pandas as pd\n",
        "import numpy as np\n",
        "import matplotlib.pyplot as plt\n",
        "from cycler import cycler\n",
        "import random\n",
        "import seaborn as sns"
      ],
      "id": "EZnjGmn8p_cP",
      "execution_count": 2,
      "outputs": []
    },
    {
      "cell_type": "code",
      "metadata": {
        "id": "0c758b65"
      },
      "source": [
        "from matplotlib.lines import Line2D \n",
        "\n",
        "def generateRandomRGB(n):\n",
        "    colors = [(random.uniform(0.0, 1.0), random.uniform(0.0, 1.0), \n",
        "               random.uniform(0.0, 1.0)) for i in range(n)]\n",
        "    return colors\n",
        "\n",
        "def plotData(X, y, colors=None, markers=None, title=''):\n",
        "    unique_classes = np.unique(y)\n",
        "    n_classes = len(unique_classes)\n",
        "    \n",
        "    if(colors is None):\n",
        "        colors = generateRandomRGB(n_classes)\n",
        "    if(markers is None):\n",
        "        markers = list(Line2D.markers.keys())\n",
        "        \n",
        "    for class_index in range(n_classes):\n",
        "        plt.scatter(X[y == unique_classes[class_index],0], X[y == unique_classes[class_index],1], \n",
        "                    label=unique_classes[class_index], c=colors[class_index],\n",
        "                    marker=markers[class_index])\n",
        "        plt.title(title)\n",
        "        plt.legend(bbox_to_anchor=(1.04,1), loc=\"upper left\")\n",
        "    plt.show()"
      ],
      "id": "0c758b65",
      "execution_count": 3,
      "outputs": []
    },
    {
      "cell_type": "code",
      "metadata": {
        "id": "eff5b8be"
      },
      "source": [
        "pokemon_train = pd.read_csv(\"Pokemon_train.csv\")\n",
        "pokemon_test = pd.read_csv(\"Pokemon_test.csv\")"
      ],
      "id": "eff5b8be",
      "execution_count": 4,
      "outputs": []
    },
    {
      "cell_type": "code",
      "metadata": {
        "colab": {
          "base_uri": "https://localhost:8080/",
          "height": 224
        },
        "id": "f21dfdc4",
        "outputId": "9c67958d-2dde-415d-edc5-a10b9eeba560"
      },
      "source": [
        "pokemon_train.head()"
      ],
      "id": "f21dfdc4",
      "execution_count": 5,
      "outputs": [
        {
          "output_type": "execute_result",
          "data": {
            "text/html": [
              "<div>\n",
              "<style scoped>\n",
              "    .dataframe tbody tr th:only-of-type {\n",
              "        vertical-align: middle;\n",
              "    }\n",
              "\n",
              "    .dataframe tbody tr th {\n",
              "        vertical-align: top;\n",
              "    }\n",
              "\n",
              "    .dataframe thead th {\n",
              "        text-align: right;\n",
              "    }\n",
              "</style>\n",
              "<table border=\"1\" class=\"dataframe\">\n",
              "  <thead>\n",
              "    <tr style=\"text-align: right;\">\n",
              "      <th></th>\n",
              "      <th>against_bug</th>\n",
              "      <th>against_dark</th>\n",
              "      <th>against_dragon</th>\n",
              "      <th>against_electric</th>\n",
              "      <th>against_fairy</th>\n",
              "      <th>against_fight</th>\n",
              "      <th>against_fire</th>\n",
              "      <th>against_flying</th>\n",
              "      <th>against_ghost</th>\n",
              "      <th>against_grass</th>\n",
              "      <th>against_ground</th>\n",
              "      <th>against_ice</th>\n",
              "      <th>against_normal</th>\n",
              "      <th>against_poison</th>\n",
              "      <th>against_psychic</th>\n",
              "      <th>against_rock</th>\n",
              "      <th>against_steel</th>\n",
              "      <th>against_water</th>\n",
              "      <th>attack</th>\n",
              "      <th>base_egg_steps</th>\n",
              "      <th>base_happiness</th>\n",
              "      <th>base_total</th>\n",
              "      <th>capture_rate</th>\n",
              "      <th>defense</th>\n",
              "      <th>experience_growth</th>\n",
              "      <th>height_m</th>\n",
              "      <th>hp</th>\n",
              "      <th>percentage_male</th>\n",
              "      <th>pokedex_number</th>\n",
              "      <th>sp_attack</th>\n",
              "      <th>sp_defense</th>\n",
              "      <th>speed</th>\n",
              "      <th>type1</th>\n",
              "    </tr>\n",
              "  </thead>\n",
              "  <tbody>\n",
              "    <tr>\n",
              "      <th>0</th>\n",
              "      <td>1.000000</td>\n",
              "      <td>1.0</td>\n",
              "      <td>1.000000</td>\n",
              "      <td>1.000000</td>\n",
              "      <td>1.000000</td>\n",
              "      <td>1.000000</td>\n",
              "      <td>1.000000</td>\n",
              "      <td>1.000000</td>\n",
              "      <td>1.0</td>\n",
              "      <td>1.000000</td>\n",
              "      <td>1.000000</td>\n",
              "      <td>1.000000</td>\n",
              "      <td>0.500000</td>\n",
              "      <td>0.500000</td>\n",
              "      <td>1.000000</td>\n",
              "      <td>2.000000</td>\n",
              "      <td>2.000000</td>\n",
              "      <td>2.0</td>\n",
              "      <td>95.000000</td>\n",
              "      <td>7680.000000</td>\n",
              "      <td>70.000000</td>\n",
              "      <td>355.000000</td>\n",
              "      <td>45.000000</td>\n",
              "      <td>50.000000</td>\n",
              "      <td>6.000000e+05</td>\n",
              "      <td>0.700000</td>\n",
              "      <td>45.000000</td>\n",
              "      <td>88.100000</td>\n",
              "      <td>347.000000</td>\n",
              "      <td>40.000000</td>\n",
              "      <td>50.000000</td>\n",
              "      <td>75.000000</td>\n",
              "      <td>rock</td>\n",
              "    </tr>\n",
              "    <tr>\n",
              "      <th>1</th>\n",
              "      <td>0.990403</td>\n",
              "      <td>1.0</td>\n",
              "      <td>0.990403</td>\n",
              "      <td>1.000000</td>\n",
              "      <td>0.990403</td>\n",
              "      <td>2.038386</td>\n",
              "      <td>0.509597</td>\n",
              "      <td>0.495202</td>\n",
              "      <td>1.0</td>\n",
              "      <td>1.980807</td>\n",
              "      <td>2.038386</td>\n",
              "      <td>0.990403</td>\n",
              "      <td>0.495202</td>\n",
              "      <td>0.490403</td>\n",
              "      <td>0.990403</td>\n",
              "      <td>0.990403</td>\n",
              "      <td>1.980807</td>\n",
              "      <td>2.0</td>\n",
              "      <td>133.464544</td>\n",
              "      <td>3864.567294</td>\n",
              "      <td>70.000000</td>\n",
              "      <td>515.191932</td>\n",
              "      <td>45.287898</td>\n",
              "      <td>130.287898</td>\n",
              "      <td>1.058711e+06</td>\n",
              "      <td>1.694242</td>\n",
              "      <td>84.520170</td>\n",
              "      <td>50.000000</td>\n",
              "      <td>525.040340</td>\n",
              "      <td>60.287898</td>\n",
              "      <td>81.343524</td>\n",
              "      <td>25.287898</td>\n",
              "      <td>rock</td>\n",
              "    </tr>\n",
              "    <tr>\n",
              "      <th>2</th>\n",
              "      <td>1.000000</td>\n",
              "      <td>1.0</td>\n",
              "      <td>1.000000</td>\n",
              "      <td>2.000000</td>\n",
              "      <td>1.000000</td>\n",
              "      <td>1.000000</td>\n",
              "      <td>0.500000</td>\n",
              "      <td>1.000000</td>\n",
              "      <td>1.0</td>\n",
              "      <td>2.000000</td>\n",
              "      <td>1.000000</td>\n",
              "      <td>0.500000</td>\n",
              "      <td>1.000000</td>\n",
              "      <td>1.000000</td>\n",
              "      <td>1.000000</td>\n",
              "      <td>1.000000</td>\n",
              "      <td>0.500000</td>\n",
              "      <td>0.5</td>\n",
              "      <td>70.000000</td>\n",
              "      <td>5120.000000</td>\n",
              "      <td>70.000000</td>\n",
              "      <td>310.000000</td>\n",
              "      <td>45.000000</td>\n",
              "      <td>50.000000</td>\n",
              "      <td>1.059860e+06</td>\n",
              "      <td>0.400000</td>\n",
              "      <td>50.000000</td>\n",
              "      <td>88.100000</td>\n",
              "      <td>258.000000</td>\n",
              "      <td>50.000000</td>\n",
              "      <td>50.000000</td>\n",
              "      <td>40.000000</td>\n",
              "      <td>water</td>\n",
              "    </tr>\n",
              "    <tr>\n",
              "      <th>3</th>\n",
              "      <td>0.500000</td>\n",
              "      <td>1.0</td>\n",
              "      <td>1.000000</td>\n",
              "      <td>1.000000</td>\n",
              "      <td>0.500000</td>\n",
              "      <td>1.000000</td>\n",
              "      <td>0.500000</td>\n",
              "      <td>1.000000</td>\n",
              "      <td>1.0</td>\n",
              "      <td>0.500000</td>\n",
              "      <td>2.000000</td>\n",
              "      <td>0.500000</td>\n",
              "      <td>1.000000</td>\n",
              "      <td>1.000000</td>\n",
              "      <td>1.000000</td>\n",
              "      <td>2.000000</td>\n",
              "      <td>0.500000</td>\n",
              "      <td>2.0</td>\n",
              "      <td>123.588302</td>\n",
              "      <td>8491.030113</td>\n",
              "      <td>70.000000</td>\n",
              "      <td>527.747870</td>\n",
              "      <td>42.252130</td>\n",
              "      <td>61.282340</td>\n",
              "      <td>1.000000e+06</td>\n",
              "      <td>1.028234</td>\n",
              "      <td>66.831914</td>\n",
              "      <td>85.773470</td>\n",
              "      <td>196.636341</td>\n",
              "      <td>100.495741</td>\n",
              "      <td>107.252130</td>\n",
              "      <td>68.297445</td>\n",
              "      <td>fire</td>\n",
              "    </tr>\n",
              "    <tr>\n",
              "      <th>4</th>\n",
              "      <td>0.334368</td>\n",
              "      <td>0.5</td>\n",
              "      <td>0.000000</td>\n",
              "      <td>1.662527</td>\n",
              "      <td>1.000000</td>\n",
              "      <td>0.334368</td>\n",
              "      <td>1.000000</td>\n",
              "      <td>1.000000</td>\n",
              "      <td>1.0</td>\n",
              "      <td>0.668737</td>\n",
              "      <td>0.337473</td>\n",
              "      <td>1.662527</td>\n",
              "      <td>1.000000</td>\n",
              "      <td>2.000000</td>\n",
              "      <td>1.000000</td>\n",
              "      <td>1.662527</td>\n",
              "      <td>2.000000</td>\n",
              "      <td>1.0</td>\n",
              "      <td>56.749463</td>\n",
              "      <td>2560.000000</td>\n",
              "      <td>93.623119</td>\n",
              "      <td>524.076666</td>\n",
              "      <td>28.312634</td>\n",
              "      <td>87.575591</td>\n",
              "      <td>8.000000e+05</td>\n",
              "      <td>1.432505</td>\n",
              "      <td>88.374731</td>\n",
              "      <td>66.670456</td>\n",
              "      <td>322.211607</td>\n",
              "      <td>111.563172</td>\n",
              "      <td>106.563172</td>\n",
              "      <td>73.250537</td>\n",
              "      <td>fairy</td>\n",
              "    </tr>\n",
              "  </tbody>\n",
              "</table>\n",
              "</div>"
            ],
            "text/plain": [
              "   against_bug  against_dark  against_dragon  ...  sp_defense      speed  type1\n",
              "0     1.000000           1.0        1.000000  ...   50.000000  75.000000   rock\n",
              "1     0.990403           1.0        0.990403  ...   81.343524  25.287898   rock\n",
              "2     1.000000           1.0        1.000000  ...   50.000000  40.000000  water\n",
              "3     0.500000           1.0        1.000000  ...  107.252130  68.297445   fire\n",
              "4     0.334368           0.5        0.000000  ...  106.563172  73.250537  fairy\n",
              "\n",
              "[5 rows x 33 columns]"
            ]
          },
          "metadata": {},
          "execution_count": 5
        }
      ]
    },
    {
      "cell_type": "code",
      "metadata": {
        "colab": {
          "base_uri": "https://localhost:8080/"
        },
        "id": "78224183",
        "outputId": "58d0a876-1282-4552-d08b-ba9b785fde03"
      },
      "source": [
        "pokemon_train[\"type1\"].value_counts()"
      ],
      "id": "78224183",
      "execution_count": 6,
      "outputs": [
        {
          "output_type": "execute_result",
          "data": {
            "text/plain": [
              "fairy       83\n",
              "rock        77\n",
              "electric    76\n",
              "bug         76\n",
              "dragon      76\n",
              "ghost       75\n",
              "water       74\n",
              "grass       74\n",
              "fire        74\n",
              "steel       73\n",
              "dark        72\n",
              "poison      72\n",
              "ice         71\n",
              "ground      71\n",
              "fighting    70\n",
              "psychic     69\n",
              "normal      68\n",
              "Name: type1, dtype: int64"
            ]
          },
          "metadata": {},
          "execution_count": 6
        }
      ]
    },
    {
      "cell_type": "code",
      "metadata": {
        "colab": {
          "base_uri": "https://localhost:8080/"
        },
        "id": "e4168187",
        "outputId": "8fa16a70-6c93-430f-e828-ac4a99ec1855"
      },
      "source": [
        "pokemon_train.isna().sum()"
      ],
      "id": "e4168187",
      "execution_count": 7,
      "outputs": [
        {
          "output_type": "execute_result",
          "data": {
            "text/plain": [
              "against_bug          0\n",
              "against_dark         0\n",
              "against_dragon       0\n",
              "against_electric     0\n",
              "against_fairy        0\n",
              "against_fight        0\n",
              "against_fire         0\n",
              "against_flying       0\n",
              "against_ghost        0\n",
              "against_grass        0\n",
              "against_ground       0\n",
              "against_ice          0\n",
              "against_normal       0\n",
              "against_poison       0\n",
              "against_psychic      0\n",
              "against_rock         0\n",
              "against_steel        0\n",
              "against_water        0\n",
              "attack               0\n",
              "base_egg_steps       0\n",
              "base_happiness       0\n",
              "base_total           0\n",
              "capture_rate         0\n",
              "defense              0\n",
              "experience_growth    0\n",
              "height_m             0\n",
              "hp                   0\n",
              "percentage_male      0\n",
              "pokedex_number       0\n",
              "sp_attack            0\n",
              "sp_defense           0\n",
              "speed                0\n",
              "type1                0\n",
              "dtype: int64"
            ]
          },
          "metadata": {},
          "execution_count": 7
        }
      ]
    },
    {
      "cell_type": "code",
      "metadata": {
        "id": "3e23830c"
      },
      "source": [
        "X_train, y_train = pokemon_train.iloc[:, :-1], pokemon_train.iloc[:, -1]\n",
        "X_test, y_test = pokemon_test.iloc[:, :-1], pokemon_test.iloc[:, -1]"
      ],
      "id": "3e23830c",
      "execution_count": 8,
      "outputs": []
    },
    {
      "cell_type": "markdown",
      "metadata": {
        "id": "be806ef9"
      },
      "source": [
        "## Apply Gaussian Naive Bayes Baseline Model"
      ],
      "id": "be806ef9"
    },
    {
      "cell_type": "code",
      "metadata": {
        "id": "e788a287"
      },
      "source": [
        "from sklearn.naive_bayes import GaussianNB\n",
        "from sklearn.metrics import accuracy_score"
      ],
      "id": "e788a287",
      "execution_count": 9,
      "outputs": []
    },
    {
      "cell_type": "code",
      "metadata": {
        "colab": {
          "base_uri": "https://localhost:8080/"
        },
        "id": "09989d25",
        "outputId": "d55677ab-7dc1-4539-b325-19505c6c6ef8"
      },
      "source": [
        "baseline_gnb_clf = GaussianNB()\n",
        "baseline_gnb_clf.fit(X_train, y_train)"
      ],
      "id": "09989d25",
      "execution_count": 10,
      "outputs": [
        {
          "output_type": "execute_result",
          "data": {
            "text/plain": [
              "GaussianNB()"
            ]
          },
          "metadata": {},
          "execution_count": 10
        }
      ]
    },
    {
      "cell_type": "code",
      "metadata": {
        "colab": {
          "base_uri": "https://localhost:8080/"
        },
        "id": "2877a754",
        "outputId": "40ba641a-2801-45c9-9114-d2a6a5128410"
      },
      "source": [
        "baseline_gnb_preds = baseline_gnb_clf.predict(X_test)\n",
        "baseline_gnb_accuracy = accuracy_score(y_test, baseline_gnb_preds)\n",
        "print(\"Gaussian NB Accuracy = {:.2f}%\".format(baseline_gnb_accuracy))"
      ],
      "id": "2877a754",
      "execution_count": 11,
      "outputs": [
        {
          "output_type": "stream",
          "name": "stdout",
          "text": [
            "Gaussian NB Accuracy = 0.51%\n"
          ]
        }
      ]
    },
    {
      "cell_type": "markdown",
      "metadata": {
        "id": "44feb820"
      },
      "source": [
        "## Apply SVM Baseline Model"
      ],
      "id": "44feb820"
    },
    {
      "cell_type": "code",
      "metadata": {
        "id": "0ae0edb9"
      },
      "source": [
        "from sklearn.svm import SVC\n",
        "from sklearn.model_selection import GridSearchCV"
      ],
      "id": "0ae0edb9",
      "execution_count": 12,
      "outputs": []
    },
    {
      "cell_type": "code",
      "metadata": {
        "colab": {
          "base_uri": "https://localhost:8080/"
        },
        "id": "a7510040",
        "outputId": "1b834aa5-0152-4a64-ef1c-699a2a8496d7"
      },
      "source": [
        "baseline_svc_clf = SVC()\n",
        "baseline_svc_clf.fit(X_train, y_train)\n",
        "baseline_svc_preds = baseline_svc_clf.predict(X_test)\n",
        "baseline_svc_acc = accuracy_score(baseline_svc_preds, y_test)\n",
        "print(baseline_svc_acc)"
      ],
      "id": "a7510040",
      "execution_count": 13,
      "outputs": [
        {
          "output_type": "stream",
          "name": "stdout",
          "text": [
            "0.12140575079872204\n"
          ]
        }
      ]
    },
    {
      "cell_type": "code",
      "metadata": {
        "colab": {
          "base_uri": "https://localhost:8080/"
        },
        "id": "b749bc4b",
        "outputId": "925a808d-1c75-4447-a019-59715e613ae8"
      },
      "source": [
        "param_grid = {'C': [0.1, 1, 10, 100], 'gamma': [1, 0.1, 0.01, 0.001, 0.00001, 10]}\n",
        "\n",
        "svm_grid = GridSearchCV(SVC(), param_grid, verbose=1)\n",
        "svm_grid.fit(X_train, y_train)"
      ],
      "id": "b749bc4b",
      "execution_count": 14,
      "outputs": [
        {
          "output_type": "stream",
          "name": "stdout",
          "text": [
            "Fitting 5 folds for each of 24 candidates, totalling 120 fits\n"
          ]
        },
        {
          "output_type": "execute_result",
          "data": {
            "text/plain": [
              "GridSearchCV(estimator=SVC(),\n",
              "             param_grid={'C': [0.1, 1, 10, 100],\n",
              "                         'gamma': [1, 0.1, 0.01, 0.001, 1e-05, 10]},\n",
              "             verbose=1)"
            ]
          },
          "metadata": {},
          "execution_count": 14
        }
      ]
    },
    {
      "cell_type": "code",
      "metadata": {
        "colab": {
          "base_uri": "https://localhost:8080/"
        },
        "id": "99c70fab",
        "outputId": "d1332f97-2499-46d1-cdf5-c3e2c18ca8ff"
      },
      "source": [
        "svm_preds = svm_grid.best_estimator_.predict(X_test)\n",
        "svm_accuracy = accuracy_score(y_test, svm_preds)\n",
        "print(\"SVM Accuracy = {:.2f}%\".format(svm_accuracy))"
      ],
      "id": "99c70fab",
      "execution_count": 15,
      "outputs": [
        {
          "output_type": "stream",
          "name": "stdout",
          "text": [
            "SVM Accuracy = 0.73%\n"
          ]
        }
      ]
    },
    {
      "cell_type": "markdown",
      "metadata": {
        "id": "66d5621e"
      },
      "source": [
        "# Apply T-SNE to Visualize the Data"
      ],
      "id": "66d5621e"
    },
    {
      "cell_type": "code",
      "metadata": {
        "id": "8d37c183"
      },
      "source": [
        "from sklearn.manifold import TSNE"
      ],
      "id": "8d37c183",
      "execution_count": 16,
      "outputs": []
    },
    {
      "cell_type": "code",
      "metadata": {
        "colab": {
          "base_uri": "https://localhost:8080/"
        },
        "id": "3ca5427c",
        "outputId": "3c002f8c-0ecc-4ea5-93ff-7a0d0c7e4e14"
      },
      "source": [
        "tsne = TSNE(n_components=2, random_state=0)\n",
        "X_train_reduced = tsne.fit_transform(X_train)"
      ],
      "id": "3ca5427c",
      "execution_count": 17,
      "outputs": [
        {
          "output_type": "stream",
          "name": "stderr",
          "text": [
            "/usr/local/lib/python3.7/dist-packages/sklearn/manifold/_t_sne.py:783: FutureWarning: The default initialization in TSNE will change from 'random' to 'pca' in 1.2.\n",
            "  FutureWarning,\n",
            "/usr/local/lib/python3.7/dist-packages/sklearn/manifold/_t_sne.py:793: FutureWarning: The default learning rate in TSNE will change from 200.0 to 'auto' in 1.2.\n",
            "  FutureWarning,\n"
          ]
        }
      ]
    },
    {
      "cell_type": "code",
      "metadata": {
        "colab": {
          "base_uri": "https://localhost:8080/",
          "height": 603
        },
        "id": "ac927c21",
        "outputId": "700693af-e94f-4bdb-b9f7-963b58c943fa"
      },
      "source": [
        "colors = generateRandomRGB(len(y_train.unique()))\n",
        "plotData(X_train_reduced, y_train, colors)"
      ],
      "id": "ac927c21",
      "execution_count": 18,
      "outputs": [
        {
          "output_type": "stream",
          "name": "stderr",
          "text": [
            "*c* argument looks like a single numeric RGB or RGBA sequence, which should be avoided as value-mapping will have precedence in case its length matches with *x* & *y*.  Please use the *color* keyword-argument or provide a 2-D array with a single row if you intend to specify the same RGB or RGBA value for all points.\n",
            "*c* argument looks like a single numeric RGB or RGBA sequence, which should be avoided as value-mapping will have precedence in case its length matches with *x* & *y*.  Please use the *color* keyword-argument or provide a 2-D array with a single row if you intend to specify the same RGB or RGBA value for all points.\n",
            "*c* argument looks like a single numeric RGB or RGBA sequence, which should be avoided as value-mapping will have precedence in case its length matches with *x* & *y*.  Please use the *color* keyword-argument or provide a 2-D array with a single row if you intend to specify the same RGB or RGBA value for all points.\n",
            "*c* argument looks like a single numeric RGB or RGBA sequence, which should be avoided as value-mapping will have precedence in case its length matches with *x* & *y*.  Please use the *color* keyword-argument or provide a 2-D array with a single row if you intend to specify the same RGB or RGBA value for all points.\n",
            "*c* argument looks like a single numeric RGB or RGBA sequence, which should be avoided as value-mapping will have precedence in case its length matches with *x* & *y*.  Please use the *color* keyword-argument or provide a 2-D array with a single row if you intend to specify the same RGB or RGBA value for all points.\n",
            "*c* argument looks like a single numeric RGB or RGBA sequence, which should be avoided as value-mapping will have precedence in case its length matches with *x* & *y*.  Please use the *color* keyword-argument or provide a 2-D array with a single row if you intend to specify the same RGB or RGBA value for all points.\n",
            "*c* argument looks like a single numeric RGB or RGBA sequence, which should be avoided as value-mapping will have precedence in case its length matches with *x* & *y*.  Please use the *color* keyword-argument or provide a 2-D array with a single row if you intend to specify the same RGB or RGBA value for all points.\n",
            "*c* argument looks like a single numeric RGB or RGBA sequence, which should be avoided as value-mapping will have precedence in case its length matches with *x* & *y*.  Please use the *color* keyword-argument or provide a 2-D array with a single row if you intend to specify the same RGB or RGBA value for all points.\n",
            "*c* argument looks like a single numeric RGB or RGBA sequence, which should be avoided as value-mapping will have precedence in case its length matches with *x* & *y*.  Please use the *color* keyword-argument or provide a 2-D array with a single row if you intend to specify the same RGB or RGBA value for all points.\n",
            "*c* argument looks like a single numeric RGB or RGBA sequence, which should be avoided as value-mapping will have precedence in case its length matches with *x* & *y*.  Please use the *color* keyword-argument or provide a 2-D array with a single row if you intend to specify the same RGB or RGBA value for all points.\n",
            "*c* argument looks like a single numeric RGB or RGBA sequence, which should be avoided as value-mapping will have precedence in case its length matches with *x* & *y*.  Please use the *color* keyword-argument or provide a 2-D array with a single row if you intend to specify the same RGB or RGBA value for all points.\n",
            "*c* argument looks like a single numeric RGB or RGBA sequence, which should be avoided as value-mapping will have precedence in case its length matches with *x* & *y*.  Please use the *color* keyword-argument or provide a 2-D array with a single row if you intend to specify the same RGB or RGBA value for all points.\n",
            "*c* argument looks like a single numeric RGB or RGBA sequence, which should be avoided as value-mapping will have precedence in case its length matches with *x* & *y*.  Please use the *color* keyword-argument or provide a 2-D array with a single row if you intend to specify the same RGB or RGBA value for all points.\n",
            "*c* argument looks like a single numeric RGB or RGBA sequence, which should be avoided as value-mapping will have precedence in case its length matches with *x* & *y*.  Please use the *color* keyword-argument or provide a 2-D array with a single row if you intend to specify the same RGB or RGBA value for all points.\n",
            "*c* argument looks like a single numeric RGB or RGBA sequence, which should be avoided as value-mapping will have precedence in case its length matches with *x* & *y*.  Please use the *color* keyword-argument or provide a 2-D array with a single row if you intend to specify the same RGB or RGBA value for all points.\n",
            "*c* argument looks like a single numeric RGB or RGBA sequence, which should be avoided as value-mapping will have precedence in case its length matches with *x* & *y*.  Please use the *color* keyword-argument or provide a 2-D array with a single row if you intend to specify the same RGB or RGBA value for all points.\n",
            "*c* argument looks like a single numeric RGB or RGBA sequence, which should be avoided as value-mapping will have precedence in case its length matches with *x* & *y*.  Please use the *color* keyword-argument or provide a 2-D array with a single row if you intend to specify the same RGB or RGBA value for all points.\n"
          ]
        },
        {
          "output_type": "display_data",
          "data": {
            "image/png": "[encoded data removed]",
            "text/plain": [
              "<Figure size 432x288 with 1 Axes>"
            ]
          },
          "metadata": {
            "needs_background": "light"
          }
        }
      ]
    },
    {
      "cell_type": "markdown",
      "metadata": {
        "id": "170c8709"
      },
      "source": [
        "# Apply KMeans"
      ],
      "id": "170c8709"
    },
    {
      "cell_type": "code",
      "metadata": {
        "id": "9b60b23b"
      },
      "source": [
        "from sklearn.cluster import KMeans"
      ],
      "id": "9b60b23b",
      "execution_count": 19,
      "outputs": []
    },
    {
      "cell_type": "code",
      "metadata": {
        "colab": {
          "base_uri": "https://localhost:8080/",
          "height": 290
        },
        "id": "ee0db208",
        "outputId": "3c620f28-a9ea-4ad4-a533-97790cf0929e"
      },
      "source": [
        "sse = []\n",
        "for k in range(1, 10):\n",
        "    kmeans = KMeans(n_clusters=k, max_iter=1000, random_state=0).fit(X_train)\n",
        "    sse.append(kmeans.inertia_)\n",
        "plt.figure()\n",
        "plt.plot(range(1, 10), sse)\n",
        "plt.xlabel(\"Number of clusters\")\n",
        "plt.ylabel(\"SSE\")\n",
        "plt.show()"
      ],
      "id": "ee0db208",
      "execution_count": 20,
      "outputs": [
        {
          "output_type": "display_data",
          "data": {
            "image/png": "[encoded data removed]",
            "text/plain": [
              "<Figure size 432x288 with 1 Axes>"
            ]
          },
          "metadata": {
            "needs_background": "light"
          }
        }
      ]
    },
    {
      "cell_type": "code",
      "metadata": {
        "id": "868f5cd3"
      },
      "source": [
        "X_train_kmeans = X_train.copy()\n",
        "kmeans = KMeans(n_clusters=3, max_iter=1000, random_state=0).fit(X_train)\n",
        "X_train_kmeans[\"centroid\"] = kmeans.fit_predict(X_train)"
      ],
      "id": "868f5cd3",
      "execution_count": 21,
      "outputs": []
    },
    {
      "cell_type": "code",
      "metadata": {
        "colab": {
          "base_uri": "https://localhost:8080/",
          "height": 336
        },
        "id": "e9d45a6f",
        "outputId": "8466b50d-6aa1-45ee-a89d-3a26b2826131"
      },
      "source": [
        "# Visualize the TSNE reduced features with kmeans\n",
        "plotData(X_train.to_numpy(), X_train_kmeans[\"centroid\"], markers=[\"*\", 'o', '+'])"
      ],
      "id": "e9d45a6f",
      "execution_count": 24,
      "outputs": [
        {
          "output_type": "stream",
          "name": "stderr",
          "text": [
            "*c* argument looks like a single numeric RGB or RGBA sequence, which should be avoided as value-mapping will have precedence in case its length matches with *x* & *y*.  Please use the *color* keyword-argument or provide a 2-D array with a single row if you intend to specify the same RGB or RGBA value for all points.\n",
            "*c* argument looks like a single numeric RGB or RGBA sequence, which should be avoided as value-mapping will have precedence in case its length matches with *x* & *y*.  Please use the *color* keyword-argument or provide a 2-D array with a single row if you intend to specify the same RGB or RGBA value for all points.\n",
            "*c* argument looks like a single numeric RGB or RGBA sequence, which should be avoided as value-mapping will have precedence in case its length matches with *x* & *y*.  Please use the *color* keyword-argument or provide a 2-D array with a single row if you intend to specify the same RGB or RGBA value for all points.\n"
          ]
        },
        {
          "output_type": "display_data",
          "data": {
            "image/png": "[encoded data removed]",
            "text/plain": [
              "<Figure size 432x288 with 1 Axes>"
            ]
          },
          "metadata": {
            "needs_background": "light"
          }
        }
      ]
    },
    {
      "cell_type": "code",
      "metadata": {
        "colab": {
          "base_uri": "https://localhost:8080/",
          "height": 336
        },
        "id": "e8ad88f7",
        "outputId": "a8699670-b42f-45ee-d547-838488c376f8"
      },
      "source": [
        "# Plot the first 2 features of X_train with their clusters\n",
        "plotData(X_train_reduced, X_train_kmeans[\"centroid\"], markers=[\"*\", 'o', '+'])"
      ],
      "id": "e8ad88f7",
      "execution_count": 23,
      "outputs": [
        {
          "output_type": "stream",
          "name": "stderr",
          "text": [
            "*c* argument looks like a single numeric RGB or RGBA sequence, which should be avoided as value-mapping will have precedence in case its length matches with *x* & *y*.  Please use the *color* keyword-argument or provide a 2-D array with a single row if you intend to specify the same RGB or RGBA value for all points.\n",
            "*c* argument looks like a single numeric RGB or RGBA sequence, which should be avoided as value-mapping will have precedence in case its length matches with *x* & *y*.  Please use the *color* keyword-argument or provide a 2-D array with a single row if you intend to specify the same RGB or RGBA value for all points.\n",
            "*c* argument looks like a single numeric RGB or RGBA sequence, which should be avoided as value-mapping will have precedence in case its length matches with *x* & *y*.  Please use the *color* keyword-argument or provide a 2-D array with a single row if you intend to specify the same RGB or RGBA value for all points.\n"
          ]
        },
        {
          "output_type": "display_data",
          "data": {
            "image/png": "[encoded data removed]",
            "text/plain": [
              "<Figure size 432x288 with 1 Axes>"
            ]
          },
          "metadata": {
            "needs_background": "light"
          }
        }
      ]
    },
    {
      "cell_type": "markdown",
      "metadata": {
        "id": "71b47b02"
      },
      "source": [
        "# Tuning PCA n_components with Baseline Models"
      ],
      "id": "71b47b02"
    },
    {
      "cell_type": "code",
      "metadata": {
        "id": "8bbfa7da"
      },
      "source": [
        "from sklearn.decomposition import PCA"
      ],
      "id": "8bbfa7da",
      "execution_count": 25,
      "outputs": []
    },
    {
      "cell_type": "code",
      "metadata": {
        "id": "b3575ebb"
      },
      "source": [
        "def tune_pca(clf, X_trian, y_train, X_test, y_test, n_min, n_max):\n",
        "    accs = []\n",
        "    for i in range(n_min, n_max):\n",
        "        pca = PCA(n_components=i, random_state=0)\n",
        "        X_train_pca = pca.fit_transform(X_train)\n",
        "        X_test_pca = pca.transform(X_test)\n",
        "\n",
        "        clf.fit(X_train_pca, y_train)\n",
        "        preds = clf.predict(X_test_pca)\n",
        "        accuracy = accuracy_score(y_test, preds)\n",
        "        accs.append(accuracy)\n",
        "    return accs\n",
        "\n",
        "def visualize_accs(baseline_acc, pca_accs, clf_name, operation='PCA', xlabel='n_components'):\n",
        "    plt.plot(pca_accs, label=f'{operation} {clf_name} Accuracy')\n",
        "    plt.plot([baseline_acc]*len(pca_accs), label=f'Baseline {clf_name} Accuracy')\n",
        "    plt.xlabel(xlabel)\n",
        "    plt.ylabel(\"Accuracy\")\n",
        "    plt.legend(bbox_to_anchor=(1.04,1), loc=\"upper left\")"
      ],
      "id": "b3575ebb",
      "execution_count": 26,
      "outputs": []
    },
    {
      "cell_type": "code",
      "metadata": {
        "colab": {
          "base_uri": "https://localhost:8080/",
          "height": 280
        },
        "id": "fdc2f777",
        "outputId": "47d49a6a-240d-4505-92a9-1e78e01479da"
      },
      "source": [
        "accs = tune_pca(GaussianNB(), X_train, y_train, X_test, y_test, 1, 30)\n",
        "visualize_accs(baseline_gnb_accuracy, accs, \"GNB\")"
      ],
      "id": "fdc2f777",
      "execution_count": 27,
      "outputs": [
        {
          "output_type": "display_data",
          "data": {
            "image/png": "[encoded data removed]",
            "text/plain": [
              "<Figure size 432x288 with 1 Axes>"
            ]
          },
          "metadata": {
            "needs_background": "light"
          }
        }
      ]
    },
    {
      "cell_type": "code",
      "metadata": {
        "colab": {
          "base_uri": "https://localhost:8080/",
          "height": 280
        },
        "id": "9df8aed5",
        "outputId": "90d88f33-8afe-4d41-c50b-8f780583cd49"
      },
      "source": [
        "accs = tune_pca(baseline_svc_clf, X_train, y_train, X_test, y_test, 1, 30)\n",
        "visualize_accs(baseline_svc_acc, accs, \"SVC\")"
      ],
      "id": "9df8aed5",
      "execution_count": 28,
      "outputs": [
        {
          "output_type": "display_data",
          "data": {
            "image/png": "[encoded data removed]",
            "text/plain": [
              "<Figure size 432x288 with 1 Axes>"
            ]
          },
          "metadata": {
            "needs_background": "light"
          }
        }
      ]
    },
    {
      "cell_type": "markdown",
      "metadata": {
        "id": "b3457ddf"
      },
      "source": [
        "According to both plots, 10 is the best number of components."
      ],
      "id": "b3457ddf"
    },
    {
      "cell_type": "code",
      "metadata": {
        "id": "dcbbb501"
      },
      "source": [
        "pca = PCA(n_components=10, random_state=0)\n",
        "X_train_pca = pca.fit_transform(X_train)\n",
        "X_test_pca = pca.transform(X_test)"
      ],
      "id": "dcbbb501",
      "execution_count": 29,
      "outputs": []
    },
    {
      "cell_type": "markdown",
      "metadata": {
        "id": "e6c4a005"
      },
      "source": [
        "# Feature Selection by Filtering"
      ],
      "id": "e6c4a005"
    },
    {
      "cell_type": "code",
      "metadata": {
        "id": "358f6863"
      },
      "source": [
        "from sklearn.feature_selection import SelectKBest\n",
        "from sklearn.feature_selection import mutual_info_classif, chi2, f_classif"
      ],
      "id": "358f6863",
      "execution_count": 30,
      "outputs": []
    },
    {
      "cell_type": "code",
      "metadata": {
        "id": "116e5a02"
      },
      "source": [
        "def select_features(X_train, y_train, X_test, y_test, clf, fs):\n",
        "    fs.fit(X_train, y_train)\n",
        "    X_train_best_features = fs.transform(X_train)\n",
        "    X_test_best_features = fs.transform(X_test) \n",
        "    clf.fit(X_train_best_features, y_train)\n",
        "    y_pred = clf.predict(X_test_best_features)\n",
        "    acc = accuracy_score(y_test, y_pred)\n",
        "    return acc"
      ],
      "id": "116e5a02",
      "execution_count": 31,
      "outputs": []
    },
    {
      "cell_type": "code",
      "metadata": {
        "colab": {
          "base_uri": "https://localhost:8080/",
          "height": 280
        },
        "id": "c8ad4d8d",
        "outputId": "8667d0ed-cf6c-4129-e313-ad73f98b884d"
      },
      "source": [
        "accs = []\n",
        "for n in range(2, 33):\n",
        "    fs =  SelectKBest(f_classif, k=n)\n",
        "    acc = select_features(X_train, y_train, X_test, y_test, baseline_gnb_clf, fs)\n",
        "    accs.append(acc)\n",
        "visualize_accs(baseline_gnb_accuracy, accs, \"GNB\", operation='Selected Features', xlabel='n_features')"
      ],
      "id": "c8ad4d8d",
      "execution_count": 60,
      "outputs": [
        {
          "output_type": "display_data",
          "data": {
            "image/png": "[encoded data removed]",
            "text/plain": [
              "<Figure size 432x288 with 1 Axes>"
            ]
          },
          "metadata": {
            "needs_background": "light"
          }
        }
      ]
    },
    {
      "cell_type": "code",
      "metadata": {
        "colab": {
          "base_uri": "https://localhost:8080/",
          "height": 282
        },
        "id": "de86e485",
        "outputId": "9bfa0211-a05c-4371-ce88-1cdaeedc65a3"
      },
      "source": [
        "accs = []\n",
        "for n in range(2, 33):\n",
        "    fs =  SelectKBest(f_classif, k=n)\n",
        "    acc = select_features(X_train, y_train, X_test, y_test, baseline_svc_clf, fs)\n",
        "    accs.append(acc)\n",
        "visualize_accs(baseline_svc_acc, accs, \"SVM\", operation='Selected Features', xlabel='n_features')"
      ],
      "id": "de86e485",
      "execution_count": 71,
      "outputs": [
        {
          "output_type": "display_data",
          "data": {
            "image/png": "[encoded data removed]",
            "text/plain": [
              "<Figure size 432x288 with 1 Axes>"
            ]
          },
          "metadata": {
            "needs_background": "light"
          }
        }
      ]
    },
    {
      "cell_type": "markdown",
      "metadata": {
        "id": "7ccbc341"
      },
      "source": [
        "# Feature Selection by Wrapping"
      ],
      "id": "7ccbc341"
    },
    {
      "cell_type": "code",
      "metadata": {
        "id": "c2e14ef1"
      },
      "source": [
        "from sklearn.feature_selection import SequentialFeatureSelector"
      ],
      "id": "c2e14ef1",
      "execution_count": 34,
      "outputs": []
    },
    {
      "cell_type": "code",
      "metadata": {
        "colab": {
          "base_uri": "https://localhost:8080/",
          "height": 280
        },
        "id": "9b9d712f",
        "outputId": "84868dab-ee7b-422a-d592-41318cf386a1"
      },
      "source": [
        "accs = []\n",
        "for n in range(2,32):\n",
        "    print(f\"n_features = {n}\")\n",
        "    fs = SequentialFeatureSelector(baseline_gnb_clf, n_features_to_select=n)\n",
        "    acc = select_features(X_train, y_train, X_test, y_test, baseline_gnb_clf, fs)\n",
        "    accs.append(acc)\n",
        "\n",
        "gnb_wrapper_best_n = np.argmax(accs) + 2\n",
        "visualize_accs(baseline_gnb_accuracy, accs, \"GNB\", operation='Selected Features', xlabel='n_features')"
      ],
      "id": "9b9d712f",
      "execution_count": 37,
      "outputs": [
        {
          "output_type": "display_data",
          "data": {
            "image/png": "[encoded data removed]",
            "text/plain": [
              "<Figure size 432x288 with 1 Axes>"
            ]
          },
          "metadata": {
            "needs_background": "light"
          }
        }
      ]
    },
    {
      "cell_type": "markdown",
      "metadata": {
        "id": "hsdN_YiPEXgN"
      },
      "source": [
        "With less than 10 features, Gaussian NB is achieving more than 90% accuracy. This accuracy remains high until 31 features, meaning that there was only one specific (the 32nd feature) that has been driving the accuracy down. This feature is experience_growth as shown below."
      ],
      "id": "hsdN_YiPEXgN"
    },
    {
      "cell_type": "code",
      "metadata": {
        "colab": {
          "base_uri": "https://localhost:8080/"
        },
        "id": "fe2LE1mWEUfu",
        "outputId": "a8803d5b-13d6-48e8-cc51-3ad601d4ac7f"
      },
      "source": [
        "clf = GaussianNB()\n",
        "\n",
        "fs = SequentialFeatureSelector(clf, n_features_to_select=31)\n",
        "fs.fit(X_train, y_train)\n",
        "\n",
        "good_features = X_train.columns[fs.get_support()]\n",
        "set(X_train.columns) - set(good_features)"
      ],
      "id": "fe2LE1mWEUfu",
      "execution_count": 59,
      "outputs": [
        {
          "output_type": "execute_result",
          "data": {
            "text/plain": [
              "{'experience_growth'}"
            ]
          },
          "metadata": {},
          "execution_count": 59
        }
      ]
    },
    {
      "cell_type": "code",
      "metadata": {
        "colab": {
          "base_uri": "https://localhost:8080/",
          "height": 280
        },
        "id": "eb0639cc",
        "outputId": "54c157da-cad2-43d4-bfdc-08bc28585992"
      },
      "source": [
        "accs = []\n",
        "for n in range(2, 32):\n",
        "    print(f\"n_features = {n}\")\n",
        "    fs = SequentialFeatureSelector(baseline_svc_clf, n_features_to_select=n)\n",
        "    acc = select_features(X_train, y_train, X_test, y_test, baseline_svc_clf, fs)\n",
        "    accs.append(acc)\n",
        "\n",
        "svm_wrapper_best_n = np.argmax(accs) + 2\n",
        "visualize_accs(baseline_svc_acc, accs, \"SVM\", operation='Selected Features', xlabel='n_features')"
      ],
      "id": "eb0639cc",
      "execution_count": 38,
      "outputs": [
        {
          "output_type": "display_data",
          "data": {
            "image/png": "[encoded data removed]",
            "text/plain": [
              "<Figure size 432x288 with 1 Axes>"
            ]
          },
          "metadata": {
            "needs_background": "light"
          }
        }
      ]
    }
  ]
}